{
 "cells": [
  {
   "cell_type": "markdown",
   "id": "22737a3d",
   "metadata": {},
   "source": [
    "# Predicting Customer Churn\n",
    "\n",
    "**Business Use Cases:**\n",
    "\n",
    "- Growth Planning: Identifying potential churn enables proactive efforts to retain customers, ensuring a steady customer base for business expansion.\n",
    "\n",
    "- Demand Shaping: Predicting churn helps tailor incentives and experiences to maintain demand for products or services.\n",
    "\n",
    "- Sales Planning: Churn prediction allows sales teams to engage with at-risk customers, offering solutions to retain them.\n",
    "\n",
    "- Offers Rollout: Businesses can target churn-prone customers with special deals to encourage them to stay.\n"
   ]
  },
  {
   "cell_type": "code",
   "execution_count": 1,
   "id": "0ae82336",
   "metadata": {},
   "outputs": [],
   "source": [
    "from datetime import datetime\n",
    "import pandas as pd\n",
    "from feast import FeatureStore"
   ]
  },
  {
   "cell_type": "code",
   "execution_count": null,
   "id": "10b94146",
   "metadata": {},
   "outputs": [],
   "source": [
    "# Initialize a Feast FeatureStore\n",
    "store = FeatureStore(repo_path=\".\")\n"
   ]
  },
  {
   "cell_type": "markdown",
   "id": "3973f486",
   "metadata": {},
   "source": [
    "# Entity"
   ]
  },
  {
   "cell_type": "code",
   "execution_count": 42,
   "id": "a8561f71",
   "metadata": {},
   "outputs": [],
   "source": [
    "# Create a DataFrame to represent entity data\n",
    "entity_df = pd.DataFrame.from_dict(\n",
    "    {\n",
    "        \"customer_id\": [1, 2, 3, 4, 230],  # List of customer IDs\n",
    "        \"event_timestamp\": [  # List of event timestamps\n",
    "            datetime(1992, 4, 2, 10, 59, 42),\n",
    "            datetime(1992, 4, 2, 8, 12, 10),\n",
    "            datetime(1992, 4, 2, 16, 40, 26),\n",
    "            datetime(1992, 4, 2, 15, 1, 12),\n",
    "            datetime(1992, 4, 4, 15, 1, 12),\n",
    "        ],\n",
    "    }\n",
    ")\n",
    "\n",
    "# Ensure that the 'customer_id' column is of type int32\n",
    "entity_df['customer_id'] = entity_df['customer_id'].astype('int32')\n"
   ]
  },
  {
   "cell_type": "code",
   "execution_count": 43,
   "id": "fdeb0611",
   "metadata": {},
   "outputs": [
    {
     "data": {
      "text/html": [
       "<div>\n",
       "<style scoped>\n",
       "    .dataframe tbody tr th:only-of-type {\n",
       "        vertical-align: middle;\n",
       "    }\n",
       "\n",
       "    .dataframe tbody tr th {\n",
       "        vertical-align: top;\n",
       "    }\n",
       "\n",
       "    .dataframe thead th {\n",
       "        text-align: right;\n",
       "    }\n",
       "</style>\n",
       "<table border=\"1\" class=\"dataframe\">\n",
       "  <thead>\n",
       "    <tr style=\"text-align: right;\">\n",
       "      <th></th>\n",
       "      <th>customer_id</th>\n",
       "      <th>event_timestamp</th>\n",
       "    </tr>\n",
       "  </thead>\n",
       "  <tbody>\n",
       "    <tr>\n",
       "      <th>0</th>\n",
       "      <td>1</td>\n",
       "      <td>1992-04-02 10:59:42</td>\n",
       "    </tr>\n",
       "    <tr>\n",
       "      <th>1</th>\n",
       "      <td>2</td>\n",
       "      <td>1992-04-02 08:12:10</td>\n",
       "    </tr>\n",
       "    <tr>\n",
       "      <th>2</th>\n",
       "      <td>3</td>\n",
       "      <td>1992-04-02 16:40:26</td>\n",
       "    </tr>\n",
       "    <tr>\n",
       "      <th>3</th>\n",
       "      <td>4</td>\n",
       "      <td>1992-04-02 15:01:12</td>\n",
       "    </tr>\n",
       "    <tr>\n",
       "      <th>4</th>\n",
       "      <td>230</td>\n",
       "      <td>1992-04-04 15:01:12</td>\n",
       "    </tr>\n",
       "  </tbody>\n",
       "</table>\n",
       "</div>"
      ],
      "text/plain": [
       "   customer_id     event_timestamp\n",
       "0            1 1992-04-02 10:59:42\n",
       "1            2 1992-04-02 08:12:10\n",
       "2            3 1992-04-02 16:40:26\n",
       "3            4 1992-04-02 15:01:12\n",
       "4          230 1992-04-04 15:01:12"
      ]
     },
     "execution_count": 43,
     "metadata": {},
     "output_type": "execute_result"
    }
   ],
   "source": [
    "entity_df.head()"
   ]
  },
  {
   "cell_type": "code",
   "execution_count": null,
   "id": "040d4acc",
   "metadata": {},
   "outputs": [],
   "source": [
    "entity_df.info()"
   ]
  },
  {
   "cell_type": "markdown",
   "id": "8aab566e",
   "metadata": {},
   "source": [
    "# Offline Retrieval"
   ]
  },
  {
   "cell_type": "code",
   "execution_count": 45,
   "id": "e6904a68",
   "metadata": {},
   "outputs": [],
   "source": [
    "# Specify the features you want to retrieve for the provided entity data\n",
    "feature_refs = [\n",
    "    \"customer_hourly_stats:category\",\n",
    "    \"customer_hourly_stats:order_gmv\",\n",
    "    \"customer_hourly_stats:sex\",\n",
    "]\n",
    "\n",
    "# Use the FeatureStore to fetch historical features for the specified entity data and features\n",
    "training_df = store.get_historical_features(\n",
    "    entity_df=entity_df,\n",
    "    feature_refs=feature_refs,\n",
    ").to_df()"
   ]
  },
  {
   "cell_type": "code",
   "execution_count": 46,
   "id": "2c040856",
   "metadata": {},
   "outputs": [
    {
     "data": {
      "text/html": [
       "<div>\n",
       "<style scoped>\n",
       "    .dataframe tbody tr th:only-of-type {\n",
       "        vertical-align: middle;\n",
       "    }\n",
       "\n",
       "    .dataframe tbody tr th {\n",
       "        vertical-align: top;\n",
       "    }\n",
       "\n",
       "    .dataframe thead th {\n",
       "        text-align: right;\n",
       "    }\n",
       "</style>\n",
       "<table border=\"1\" class=\"dataframe\">\n",
       "  <thead>\n",
       "    <tr style=\"text-align: right;\">\n",
       "      <th></th>\n",
       "      <th>event_timestamp</th>\n",
       "      <th>customer_id</th>\n",
       "      <th>customer_hourly_stats__category</th>\n",
       "      <th>customer_hourly_stats__order_gmv</th>\n",
       "      <th>customer_hourly_stats__sex</th>\n",
       "    </tr>\n",
       "  </thead>\n",
       "  <tbody>\n",
       "    <tr>\n",
       "      <th>0</th>\n",
       "      <td>1992-04-02 08:12:10+00:00</td>\n",
       "      <td>2</td>\n",
       "      <td>1</td>\n",
       "      <td>71.283302</td>\n",
       "      <td>female</td>\n",
       "    </tr>\n",
       "    <tr>\n",
       "      <th>1</th>\n",
       "      <td>1992-04-02 10:59:42+00:00</td>\n",
       "      <td>1</td>\n",
       "      <td>3</td>\n",
       "      <td>7.250000</td>\n",
       "      <td>male</td>\n",
       "    </tr>\n",
       "    <tr>\n",
       "      <th>2</th>\n",
       "      <td>1992-04-02 15:01:12+00:00</td>\n",
       "      <td>4</td>\n",
       "      <td>1</td>\n",
       "      <td>53.099998</td>\n",
       "      <td>female</td>\n",
       "    </tr>\n",
       "    <tr>\n",
       "      <th>3</th>\n",
       "      <td>1992-04-02 16:40:26+00:00</td>\n",
       "      <td>3</td>\n",
       "      <td>3</td>\n",
       "      <td>7.925000</td>\n",
       "      <td>female</td>\n",
       "    </tr>\n",
       "    <tr>\n",
       "      <th>4</th>\n",
       "      <td>1992-04-04 15:01:12+00:00</td>\n",
       "      <td>230</td>\n",
       "      <td>3</td>\n",
       "      <td>25.466700</td>\n",
       "      <td>female</td>\n",
       "    </tr>\n",
       "  </tbody>\n",
       "</table>\n",
       "</div>"
      ],
      "text/plain": [
       "            event_timestamp  customer_id customer_hourly_stats__category  \\\n",
       "0 1992-04-02 08:12:10+00:00            2                               1   \n",
       "1 1992-04-02 10:59:42+00:00            1                               3   \n",
       "2 1992-04-02 15:01:12+00:00            4                               1   \n",
       "3 1992-04-02 16:40:26+00:00            3                               3   \n",
       "4 1992-04-04 15:01:12+00:00          230                               3   \n",
       "\n",
       "   customer_hourly_stats__order_gmv customer_hourly_stats__sex  \n",
       "0                         71.283302                     female  \n",
       "1                          7.250000                       male  \n",
       "2                         53.099998                     female  \n",
       "3                          7.925000                     female  \n",
       "4                         25.466700                     female  "
      ]
     },
     "execution_count": 46,
     "metadata": {},
     "output_type": "execute_result"
    }
   ],
   "source": [
    "training_df.head()"
   ]
  },
  {
   "cell_type": "markdown",
   "id": "9e41f5fc",
   "metadata": {},
   "source": [
    "# Online Retrieval"
   ]
  },
  {
   "cell_type": "code",
   "execution_count": null,
   "id": "7786c5c0",
   "metadata": {},
   "outputs": [],
   "source": [
    "# Fetch online features from the Feast FeatureStore\n",
    "\n",
    "# Specify the feature references you want to retrieve for the provided entity data\n",
    "feature_refs = [\n",
    "    \"customer_hourly_stats:category\",\n",
    "    \"customer_hourly_stats:order_gmv\",\n",
    "    \"customer_hourly_stats:sex\",\n",
    "]\n",
    "\n",
    "# Specify a list of entity rows for which you want to retrieve online features\n",
    "entity_rows = [\n",
    "    {\"customer_id\": 3},\n",
    "    {\"customer_id\": 2},\n",
    "    {\"customer_id\": 82323},\n",
    "]\n",
    "\n",
    "# Use the FeatureStore to fetch online features for the specified feature references and entity rows\n",
    "feature_vector = store.get_online_features(\n",
    "    feature_refs=feature_refs,\n",
    "    entity_rows=entity_rows,\n",
    ").to_dict()\n"
   ]
  },
  {
   "cell_type": "code",
   "execution_count": 48,
   "id": "91939082",
   "metadata": {},
   "outputs": [
    {
     "data": {
      "text/plain": [
       "{'customer_id': [3, 2, 82323],\n",
       " 'customer_hourly_stats__sex': ['female', 'female', None],\n",
       " 'customer_hourly_stats__category': ['3', '1', None],\n",
       " 'customer_hourly_stats__order_gmv': [7.925000190734863,\n",
       "  71.2833023071289,\n",
       "  None]}"
      ]
     },
     "execution_count": 48,
     "metadata": {},
     "output_type": "execute_result"
    }
   ],
   "source": [
    "feature_vector"
   ]
  },
  {
   "cell_type": "markdown",
   "id": "ba5bc015",
   "metadata": {},
   "source": [
    "# Training Data Generation"
   ]
  },
  {
   "cell_type": "code",
   "execution_count": 49,
   "id": "80f66efa",
   "metadata": {},
   "outputs": [],
   "source": [
    "# Create a DataFrame to represent entity data\n",
    "\n",
    "entity_df = pd.DataFrame.from_dict(\n",
    "    {\n",
    "        \"customer_id\": [cust_id for cust_id in range(1, 892)],  # Generate a range of customer IDs\n",
    "        \"event_timestamp\": [  # List of event timestamps\n",
    "            datetime(1992, 5, 1, 0, 0, 0) for cust_id in range(1, 892)\n",
    "        ],\n",
    "    }\n",
    ")\n",
    "\n",
    "# Ensure that the 'customer_id' column is of type int32\n",
    "entity_df['customer_id'] = entity_df['customer_id'].astype('int32')\n"
   ]
  },
  {
   "cell_type": "code",
   "execution_count": 50,
   "id": "e7a8dd46",
   "metadata": {},
   "outputs": [
    {
     "data": {
      "text/plain": [
       "(891, 2)"
      ]
     },
     "execution_count": 50,
     "metadata": {},
     "output_type": "execute_result"
    }
   ],
   "source": [
    "entity_df.shape"
   ]
  },
  {
   "cell_type": "code",
   "execution_count": 51,
   "id": "4801d5d9",
   "metadata": {},
   "outputs": [],
   "source": [
    "# Fetch historical features from the Feast FeatureStore\n",
    "\n",
    "# Specify the features you want to retrieve for the provided entity data\n",
    "feature_refs = [\n",
    "    \"customer_hourly_stats:category\",\n",
    "    \"customer_hourly_stats:order_gmv\",\n",
    "    \"customer_hourly_stats:sex\",\n",
    "    \"customer_hourly_stats:age\",\n",
    "    \"customer_hourly_stats:credit_type\",\n",
    "    \"customer_hourly_stats:churned\",\n",
    "]\n",
    "\n",
    "# Use the FeatureStore to fetch historical features for the specified entity data and features\n",
    "training_df = store.get_historical_features(\n",
    "    entity_df=entity_df,\n",
    "    feature_refs=feature_refs,\n",
    ").to_df()\n",
    "\n",
    "# Remove rows with missing values (NaN)\n",
    "training_df.dropna(inplace=True)\n"
   ]
  },
  {
   "cell_type": "code",
   "execution_count": null,
   "id": "8311ba79",
   "metadata": {},
   "outputs": [],
   "source": [
    "training_df.head(10)"
   ]
  },
  {
   "cell_type": "code",
   "execution_count": null,
   "id": "498e7d35",
   "metadata": {},
   "outputs": [],
   "source": [
    "training_df.shape"
   ]
  },
  {
   "cell_type": "markdown",
   "id": "69e37d36",
   "metadata": {},
   "source": [
    "# Model training"
   ]
  },
  {
   "cell_type": "code",
   "execution_count": 54,
   "id": "b5902cea",
   "metadata": {},
   "outputs": [],
   "source": [
    "from sklearn.model_selection import train_test_split\n",
    "from sklearn.ensemble import GradientBoostingClassifier, RandomForestClassifier\n",
    "from sklearn.metrics import precision_score, recall_score"
   ]
  },
  {
   "cell_type": "code",
   "execution_count": 55,
   "id": "07c82a77",
   "metadata": {},
   "outputs": [],
   "source": [
    "# Import necessary libraries and modules\n",
    "from sklearn.metrics import roc_curve, precision_recall_curve, auc\n",
    "import matplotlib.pyplot as plt\n",
    "import numpy as np\n",
    "\n",
    "# Define a function to calculate AUC (Area Under the Curve) for ROC (Receiver Operating Characteristic)\n",
    "def get_auc(labels, scores):\n",
    "    fpr, tpr, thresholds = roc_curve(labels, scores)\n",
    "    auc_score = auc(fpr, tpr)\n",
    "    return fpr, tpr, auc_score\n",
    "\n",
    "# Define a function to plot a metric\n",
    "def plot_metric(ax, x, y, x_label, y_label, plot_label, style=\"-\"):\n",
    "    ax.plot(x, y, style, label=plot_label)\n",
    "    ax.legend()\n",
    "    \n",
    "    ax.set_ylabel(y_label)\n",
    "    ax.set_xlabel(x_label)\n",
    "\n",
    "# Define a function to summarize predictions and plot ROC curve\n",
    "def prediction_summary(labels, predicted_score, info, plot_baseline=True, axes=None):\n",
    "    if axes is None:\n",
    "        axes = [plt.subplot(1, 2, 1)]\n",
    "\n",
    "    fpr, tpr, auc_score = get_auc(labels, predicted_score)\n",
    "    plot_metric(axes[0], fpr, tpr, \"False positive rate\",\n",
    "                \"True positive rate\", \"{} AUC = {:.4f}\".format(info, auc_score))\n",
    "    if plot_baseline:\n",
    "        plot_metric(axes[0], [0, 1], [0, 1], \"False positive rate\",\n",
    "                \"True positive rate\", \"baseline AUC = 0.5\", \"r--\")\n",
    "\n",
    "    plt.show()\n",
    "    return axes, auc_score\n",
    "\n",
    "# Define a function to create a figure for plotting\n",
    "def figure():\n",
    "    fig_size = 4.5\n",
    "    f = plt.figure()\n",
    "    f.set_figheight(fig_size)\n",
    "    f.set_figwidth(fig_size*2)\n"
   ]
  },
  {
   "cell_type": "code",
   "execution_count": 56,
   "id": "be82ae92",
   "metadata": {},
   "outputs": [
    {
     "name": "stdout",
     "output_type": "stream",
     "text": [
      "(711, 8) (178, 8)\n"
     ]
    }
   ],
   "source": [
    "# Split the 'training_df' DataFrame into training and testing sets\n",
    "pdf_train, pdf_test = train_test_split(training_df, test_size=0.2, random_state=123)\n",
    "\n",
    "# Print the shapes (number of rows and columns) of the training and testing sets\n",
    "print(pdf_train.shape, pdf_test.shape)\n"
   ]
  },
  {
   "cell_type": "code",
   "execution_count": 57,
   "id": "0594b21a",
   "metadata": {},
   "outputs": [],
   "source": [
    "# List of feature names\n",
    "features = [\n",
    "    'customer_hourly_stats__category',\n",
    "    'customer_hourly_stats__order_gmv',\n",
    "    'customer_hourly_stats__sex',\n",
    "    'customer_hourly_stats__age',\n",
    "    'customer_hourly_stats__credit_type'\n",
    "]\n"
   ]
  },
  {
   "cell_type": "code",
   "execution_count": null,
   "id": "b104f21d",
   "metadata": {},
   "outputs": [],
   "source": [
    "# Extract the features from the training and testing datasets\n",
    "X_train = pdf_train[features]\n",
    "X_train['is_train'] = 1  # Add a binary flag 'is_train' with a value of 1 to identify the training data\n",
    "\n",
    "X_test = pdf_test[features]\n",
    "X_test['is_train'] = 0  # Add a binary flag 'is_train' with a value of 0 to identify the testing data\n",
    "\n",
    "# Combine the training and testing datasets\n",
    "X = pd.concat([X_train, X_test])\n",
    "\n",
    "# Perform one-hot encoding (get dummies) on the combined dataset\n",
    "X = pd.get_dummies(data=X)\n",
    "\n",
    "# Split the combined dataset back into training and testing datasets\n",
    "X_train = X[X.is_train == 1]\n",
    "X_test = X[X.is_train == 0]\n",
    "\n",
    "# Drop the 'is_train' column as it's no longer needed\n",
    "X_train.drop(['is_train'], axis=1, inplace=True)\n",
    "X_test.drop(['is_train'], axis=1, inplace=True)\n"
   ]
  },
  {
   "cell_type": "code",
   "execution_count": null,
   "id": "c56ecdf7",
   "metadata": {},
   "outputs": [],
   "source": [
    "# Create a RandomForestClassifier model with specified hyperparameters\n",
    "\n",
    "scikit_rf = RandomForestClassifier(\n",
    "    n_estimators=100,  # Number of trees in the forest\n",
    "    random_state=1234,  \n",
    "    max_depth=6,  # Maximum depth of the tree\n",
    "    n_jobs=-1  # Use all available CPU cores for parallel processing\n",
    ")\n",
    "\n",
    "# Fit the RandomForestClassifier model to the training data\n",
    "scikit_rf.fit(X_train, pdf_train[[\"customer_hourly_stats__churned\"]])\n",
    "\n",
    "# Make predictions on the testing data\n",
    "predictions_scikit_rf = scikit_rf.predict_proba(X_test)\n",
    "\n",
    "# Assign the predicted probabilities of class 1 to a new column in the testing DataFrame\n",
    "pdf_test['p1'] = predictions_scikit_rf[:, 1]\n"
   ]
  },
  {
   "cell_type": "code",
   "execution_count": null,
   "id": "2e1d9811",
   "metadata": {},
   "outputs": [],
   "source": [
    "# Create a figure for plotting\n",
    "figure()\n",
    "\n",
    "# Calculate the ROC AUC score and create a summary plot\n",
    "axes, auc_score = prediction_summary(pdf_test[\"customer_hourly_stats__churned\"], pdf_test[\"p1\"], \"\")\n"
   ]
  },
  {
   "cell_type": "code",
   "execution_count": null,
   "id": "ae8fb2ee",
   "metadata": {},
   "outputs": [],
   "source": [
    "# Create a GradientBoostingClassifier model with specified hyperparameters\n",
    "\n",
    "scikit_gb = GradientBoostingClassifier(\n",
    "    n_estimators=50,  # Number of boosting stages (trees)\n",
    "    random_state=1234, \n",
    "    max_depth=6  # Maximum depth of each tree in the ensemble\n",
    ")\n",
    "\n",
    "# Fit the GradientBoostingClassifier model to the training data\n",
    "scikit_gb.fit(X_train, pdf_train[[\"customer_hourly_stats__churned\"]])\n",
    "\n",
    "# Make predictions on the testing data\n",
    "predictions_scikit_gb = scikit_gb.predict_proba(X_test)\n",
    "\n",
    "# Assign the predicted probabilities of class 1 to a new column in the testing DataFrame\n",
    "pdf_test['p1'] = predictions_scikit_gb[:, 1]\n"
   ]
  },
  {
   "cell_type": "code",
   "execution_count": null,
   "id": "736396d8",
   "metadata": {},
   "outputs": [],
   "source": [
    "# Create a figure for plotting\n",
    "figure()\n",
    "\n",
    "# Calculate the ROC AUC score and create a summary plot\n",
    "axes, auc_score = prediction_summary(pdf_test[\"customer_hourly_stats__churned\"], pdf_test[\"p1\"], \"\")\n"
   ]
  },
  {
   "cell_type": "markdown",
   "id": "4646a66f",
   "metadata": {},
   "source": [
    "# Real-time prediction"
   ]
  },
  {
   "cell_type": "code",
   "execution_count": null,
   "id": "c5cf0802",
   "metadata": {},
   "outputs": [],
   "source": [
    "# Fetch online features from the Feast FeatureStore\n",
    "pred_df = store.get_online_features(\n",
    "    feature_refs=[\n",
    "        \"customer_hourly_stats:category\",\n",
    "        \"customer_hourly_stats:order_gmv\",\n",
    "        \"customer_hourly_stats:sex\",\n",
    "        \"customer_hourly_stats:age\",\n",
    "        \"customer_hourly_stats:credit_type\",\n",
    "        \"customer_hourly_stats:churned\",\n",
    "    ],\n",
    "    entity_rows=[\n",
    "        {\"customer_id\": 23},\n",
    "        {\"customer_id\": 2},\n",
    "        {\"customer_id\": 6},\n",
    "        {\"customer_id\": 7},\n",
    "        {\"customer_id\": 1},\n",
    "        {\"customer_id\": 4},\n",
    "        {\"customer_id\": 10},\n",
    "    ],\n",
    ").to_df()\n",
    "\n",
    "# Remove rows with missing values (NaN)\n",
    "pred_df.dropna(inplace=True)\n"
   ]
  },
  {
   "cell_type": "code",
   "execution_count": null,
   "id": "4eeb029d",
   "metadata": {},
   "outputs": [],
   "source": [
    "pred_df.head(10)"
   ]
  },
  {
   "cell_type": "code",
   "execution_count": null,
   "id": "4bc21d95",
   "metadata": {},
   "outputs": [],
   "source": [
    "# Perform one-hot encoding on selected features in the DataFrame 'pred_df'\n",
    "pred_df = pd.get_dummies(data=pred_df[features])\n"
   ]
  },
  {
   "cell_type": "code",
   "execution_count": 66,
   "id": "bc4e1ca9",
   "metadata": {},
   "outputs": [
    {
     "data": {
      "text/html": [
       "<div>\n",
       "<style scoped>\n",
       "    .dataframe tbody tr th:only-of-type {\n",
       "        vertical-align: middle;\n",
       "    }\n",
       "\n",
       "    .dataframe tbody tr th {\n",
       "        vertical-align: top;\n",
       "    }\n",
       "\n",
       "    .dataframe thead th {\n",
       "        text-align: right;\n",
       "    }\n",
       "</style>\n",
       "<table border=\"1\" class=\"dataframe\">\n",
       "  <thead>\n",
       "    <tr style=\"text-align: right;\">\n",
       "      <th></th>\n",
       "      <th>customer_hourly_stats__order_gmv</th>\n",
       "      <th>customer_hourly_stats__age</th>\n",
       "      <th>customer_hourly_stats__category_1</th>\n",
       "      <th>customer_hourly_stats__category_2</th>\n",
       "      <th>customer_hourly_stats__category_3</th>\n",
       "      <th>customer_hourly_stats__sex_female</th>\n",
       "      <th>customer_hourly_stats__sex_male</th>\n",
       "      <th>customer_hourly_stats__credit_type_C</th>\n",
       "      <th>customer_hourly_stats__credit_type_Q</th>\n",
       "      <th>customer_hourly_stats__credit_type_S</th>\n",
       "    </tr>\n",
       "  </thead>\n",
       "  <tbody>\n",
       "    <tr>\n",
       "      <th>0</th>\n",
       "      <td>8.029200</td>\n",
       "      <td>15</td>\n",
       "      <td>0</td>\n",
       "      <td>0</td>\n",
       "      <td>1</td>\n",
       "      <td>1</td>\n",
       "      <td>0</td>\n",
       "      <td>0</td>\n",
       "      <td>1</td>\n",
       "      <td>0</td>\n",
       "    </tr>\n",
       "    <tr>\n",
       "      <th>1</th>\n",
       "      <td>71.283302</td>\n",
       "      <td>38</td>\n",
       "      <td>1</td>\n",
       "      <td>0</td>\n",
       "      <td>0</td>\n",
       "      <td>1</td>\n",
       "      <td>0</td>\n",
       "      <td>1</td>\n",
       "      <td>0</td>\n",
       "      <td>0</td>\n",
       "    </tr>\n",
       "    <tr>\n",
       "      <th>2</th>\n",
       "      <td>8.458300</td>\n",
       "      <td>46</td>\n",
       "      <td>0</td>\n",
       "      <td>0</td>\n",
       "      <td>1</td>\n",
       "      <td>0</td>\n",
       "      <td>1</td>\n",
       "      <td>0</td>\n",
       "      <td>1</td>\n",
       "      <td>0</td>\n",
       "    </tr>\n",
       "    <tr>\n",
       "      <th>3</th>\n",
       "      <td>51.862499</td>\n",
       "      <td>54</td>\n",
       "      <td>1</td>\n",
       "      <td>0</td>\n",
       "      <td>0</td>\n",
       "      <td>0</td>\n",
       "      <td>1</td>\n",
       "      <td>0</td>\n",
       "      <td>0</td>\n",
       "      <td>1</td>\n",
       "    </tr>\n",
       "    <tr>\n",
       "      <th>4</th>\n",
       "      <td>7.250000</td>\n",
       "      <td>22</td>\n",
       "      <td>0</td>\n",
       "      <td>0</td>\n",
       "      <td>1</td>\n",
       "      <td>0</td>\n",
       "      <td>1</td>\n",
       "      <td>0</td>\n",
       "      <td>0</td>\n",
       "      <td>1</td>\n",
       "    </tr>\n",
       "  </tbody>\n",
       "</table>\n",
       "</div>"
      ],
      "text/plain": [
       "   customer_hourly_stats__order_gmv  customer_hourly_stats__age  \\\n",
       "0                          8.029200                          15   \n",
       "1                         71.283302                          38   \n",
       "2                          8.458300                          46   \n",
       "3                         51.862499                          54   \n",
       "4                          7.250000                          22   \n",
       "\n",
       "   customer_hourly_stats__category_1  customer_hourly_stats__category_2  \\\n",
       "0                                  0                                  0   \n",
       "1                                  1                                  0   \n",
       "2                                  0                                  0   \n",
       "3                                  1                                  0   \n",
       "4                                  0                                  0   \n",
       "\n",
       "   customer_hourly_stats__category_3  customer_hourly_stats__sex_female  \\\n",
       "0                                  1                                  1   \n",
       "1                                  0                                  1   \n",
       "2                                  1                                  0   \n",
       "3                                  0                                  0   \n",
       "4                                  1                                  0   \n",
       "\n",
       "   customer_hourly_stats__sex_male  customer_hourly_stats__credit_type_C  \\\n",
       "0                                0                                     0   \n",
       "1                                0                                     1   \n",
       "2                                1                                     0   \n",
       "3                                1                                     0   \n",
       "4                                1                                     0   \n",
       "\n",
       "   customer_hourly_stats__credit_type_Q  customer_hourly_stats__credit_type_S  \n",
       "0                                     1                                     0  \n",
       "1                                     0                                     0  \n",
       "2                                     1                                     0  \n",
       "3                                     0                                     1  \n",
       "4                                     0                                     1  "
      ]
     },
     "execution_count": 66,
     "metadata": {},
     "output_type": "execute_result"
    }
   ],
   "source": [
    "pred_df.head()"
   ]
  },
  {
   "cell_type": "code",
   "execution_count": null,
   "id": "a13fd8a5",
   "metadata": {},
   "outputs": [],
   "source": [
    "# Make predictions using the RandomForestClassifier model on the 'pred_df' DataFrame\n",
    "predictions = scikit_rf.predict(pred_df)\n"
   ]
  },
  {
   "cell_type": "markdown",
   "id": "861327bf",
   "metadata": {},
   "source": [
    "---"
   ]
  },
  {
   "cell_type": "code",
   "execution_count": null,
   "id": "23e4115b",
   "metadata": {},
   "outputs": [],
   "source": []
  }
 ],
 "metadata": {
  "kernelspec": {
   "display_name": "Python 3",
   "language": "python",
   "name": "python3"
  },
  "language_info": {
   "codemirror_mode": {
    "name": "ipython",
    "version": 3
   },
   "file_extension": ".py",
   "mimetype": "text/x-python",
   "name": "python",
   "nbconvert_exporter": "python",
   "pygments_lexer": "ipython3",
   "version": "3.8.8"
  }
 },
 "nbformat": 4,
 "nbformat_minor": 5
}
